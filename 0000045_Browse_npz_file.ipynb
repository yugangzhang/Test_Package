{
 "cells": [
  {
   "cell_type": "markdown",
   "id": "04b7f4ff",
   "metadata": {},
   "source": [
    "# Load package"
   ]
  },
  {
   "cell_type": "code",
   "execution_count": 1,
   "id": "646d1d52",
   "metadata": {},
   "outputs": [],
   "source": [
    "import numpy as np\n",
    "import matplotlib.pyplot as plt\n",
    "%matplotlib notebook"
   ]
  },
  {
   "cell_type": "markdown",
   "id": "8e9d1fd5",
   "metadata": {},
   "source": [
    "# Data "
   ]
  },
  {
   "cell_type": "code",
   "execution_count": 3,
   "id": "599a21d2",
   "metadata": {},
   "outputs": [],
   "source": [
    "NPZ_outDir = '/home/group/Droplet/Results/NPZ/'\n",
    "outDir = '/home/group/Droplet/Results/NPZ_Analysis/'\n"
   ]
  },
  {
   "cell_type": "code",
   "execution_count": 4,
   "id": "df9af735",
   "metadata": {},
   "outputs": [],
   "source": [
    "data = np.load(NPZ_outDir + 'CMS_20uLM_SB_data_updated_20230113.npz', allow_pickle=True)['df'][0]\n",
    "\n"
   ]
  },
  {
   "cell_type": "code",
   "execution_count": 5,
   "id": "c2315fb6",
   "metadata": {},
   "outputs": [
    {
     "name": "stdout",
     "output_type": "stream",
     "text": [
      "dict_keys(['metadata', 'uv', 'SAXS', 'MAXS'])\n",
      "{'description': 'Au synthesis at CMS beamline 2022_3 cycle', 'temperature': '100 C', 'flow rate': '20 ul/min', 'date': '1013', 'chemical': ['NCit_16mM', 'Water with 0.01% Tween20', 'HCl(-) or NaCl(+) 10mM', 'HAuCl4_2mM'], 'volume_unit': 'ul'}\n"
     ]
    }
   ],
   "source": [
    "print( data.keys() )\n",
    "print( data['metadata'])"
   ]
  },
  {
   "cell_type": "code",
   "execution_count": 47,
   "id": "f62af256",
   "metadata": {},
   "outputs": [
    {
     "name": "stdout",
     "output_type": "stream",
     "text": [
      "There are totally 592 droplets, including  66 blue dyes.\n"
     ]
    }
   ],
   "source": [
    "HA = data['SAXS']['data']['droplet_dict']['HA'] \n",
    "N = len(HA)\n",
    "blue_droplets_index = np.arange(N)[HA==0 ]\n",
    "Nb = len(blue_droplets_index)\n",
    "print( 'There are totally %s droplets, including  %s blue dyes.'%(N, Nb))"
   ]
  },
  {
   "cell_type": "code",
   "execution_count": 58,
   "id": "219fbd7a",
   "metadata": {},
   "outputs": [
    {
     "data": {
      "text/plain": [
       "[77, 132, 140, 290, 299]"
      ]
     },
     "execution_count": 58,
     "metadata": {},
     "output_type": "execute_result"
    }
   ],
   "source": [
    "iqb = data['SAXS']['data']['iqb'] \n",
    "droplet_without_saxs_data = []\n",
    "\n",
    "for i, iqx in enumerate(iqb):\n",
    "    if isinstance(iqx, float):\n",
    "        droplet_without_saxs_data.append(i)\n",
    "        \n",
    "droplet_without_saxs_data"
   ]
  },
  {
   "cell_type": "markdown",
   "id": "b287067b",
   "metadata": {},
   "source": [
    "* NOTE:\n",
    "** droplets are counts from zero\n",
    "** there are five missing saxs data with index as  [77, 132, 140, 290, 299]"
   ]
  },
  {
   "cell_type": "code",
   "execution_count": 6,
   "id": "1f79b078",
   "metadata": {},
   "outputs": [
    {
     "name": "stdout",
     "output_type": "stream",
     "text": [
      "dict_keys(['description', 'raw_data', 'processed_old_data', 'processed_new_data', 'data'])\n"
     ]
    }
   ],
   "source": [
    "print(data['uv'].keys())"
   ]
  },
  {
   "cell_type": "markdown",
   "id": "aa84a2ea",
   "metadata": {},
   "source": [
    "## SAXS"
   ]
  },
  {
   "cell_type": "code",
   "execution_count": 7,
   "id": "c882b190",
   "metadata": {},
   "outputs": [
    {
     "name": "stdout",
     "output_type": "stream",
     "text": [
      "dict_keys(['description', 'data'])\n",
      "dict_keys(['droplet_filename_list', 'droplet_sid', 'droplet_dict', 'q', 'iq', 'qb', 'iqb'])\n"
     ]
    }
   ],
   "source": [
    "print( data['SAXS'].keys() )\n",
    "print( data['SAXS']['data'].keys() )"
   ]
  },
  {
   "cell_type": "code",
   "execution_count": 8,
   "id": "877b219b",
   "metadata": {},
   "outputs": [
    {
     "data": {
      "text/plain": [
       "0      [0.39607187908508196, 0.3909230685951627, 0.40...\n",
       "1      [0.353645984168431, 0.3228659743751829, 0.3040...\n",
       "2      [0.36373422274855044, 0.36991118154505215, 0.3...\n",
       "3      [2.856026650689201, 2.842350275946066, 2.83303...\n",
       "4      [0.2367354198773948, 0.23445369123660384, 0.23...\n",
       "                             ...                        \n",
       "587    [1070.8666280110676, 1012.6724100748698, 965.7...\n",
       "588    [916.998203531901, 861.2929829915364, 817.7403...\n",
       "589    [1078.552891031901, 1017.1149881998698, 970.09...\n",
       "590    [1011.9539978027344, 957.9382954915365, 915.75...\n",
       "591    [1203.6061462402345, 1135.7981913248698, 1083....\n",
       "Name: iqb, Length: 592, dtype: object"
      ]
     },
     "execution_count": 8,
     "metadata": {},
     "output_type": "execute_result"
    }
   ],
   "source": [
    "data['SAXS']['data']['iqb']"
   ]
  },
  {
   "cell_type": "markdown",
   "id": "e4ac90a2",
   "metadata": {},
   "source": [
    "## UV"
   ]
  },
  {
   "cell_type": "code",
   "execution_count": 9,
   "id": "85de6d8e",
   "metadata": {},
   "outputs": [
    {
     "name": "stdout",
     "output_type": "stream",
     "text": [
      "dict_keys(['description', 'droplet_filename_list', 'droplet_dict', 'x_wav', 'y'])\n",
      "0      [-0.012155581061388062, 0.006040977566928838, ...\n",
      "1      [0.02065938387485666, -0.018680544828289358, 0...\n",
      "2      [0.008809570115722249, -0.021829441293963834, ...\n",
      "3      [0.1409325990029531, 0.1447077930553108, 0.127...\n",
      "4      [0.015936111072974976, 0.01388884714877664, 0....\n",
      "                             ...                        \n",
      "587    [1.2980840982494266, 1.3086746904064541, 1.453...\n",
      "588    [1.1331414704538811, 1.1987904991231022, 1.015...\n",
      "589    [1.6939900147001328, 1.2436301563811725, 1.038...\n",
      "590    [1.3994165903346076, 1.2379276455133175, 1.723...\n",
      "591    [1.4317567444977843, 1.0582821445529673, 1.497...\n",
      "Name: _y, Length: 592, dtype: object\n"
     ]
    }
   ],
   "source": [
    "print( data['uv']['data'].keys()  )\n",
    "print( data['uv']['data']['y']  )\n"
   ]
  },
  {
   "cell_type": "markdown",
   "id": "c126a11c",
   "metadata": {},
   "source": [
    "# WAXS"
   ]
  },
  {
   "cell_type": "code",
   "execution_count": 10,
   "id": "7d731819",
   "metadata": {},
   "outputs": [
    {
     "name": "stdout",
     "output_type": "stream",
     "text": [
      "dict_keys(['droplet_filename_list', 'q', 'iq'])\n"
     ]
    }
   ],
   "source": [
    "print( data['MAXS']['data'].keys()  )\n",
    "#print( data['MAXS']['data']['iq']  )"
   ]
  },
  {
   "cell_type": "code",
   "execution_count": 11,
   "id": "eaa54fc0",
   "metadata": {},
   "outputs": [],
   "source": [
    "#print( res['SAXS']['analysis']['216'] )"
   ]
  },
  {
   "cell_type": "code",
   "execution_count": 12,
   "id": "473ce32f",
   "metadata": {},
   "outputs": [
    {
     "name": "stdout",
     "output_type": "stream",
     "text": [
      "[0.34164825 0.34400141 0.34635457 ... 3.86432727 3.86668043 3.86903359]\n"
     ]
    }
   ],
   "source": [
    "print( data['MAXS']['data']['q']  )"
   ]
  },
  {
   "cell_type": "code",
   "execution_count": 13,
   "id": "e71924cb",
   "metadata": {},
   "outputs": [
    {
     "name": "stdout",
     "output_type": "stream",
     "text": [
      "592\n"
     ]
    }
   ],
   "source": [
    "print( len(data['MAXS']['data']['iq']  ))"
   ]
  },
  {
   "cell_type": "markdown",
   "id": "70b53e14",
   "metadata": {},
   "source": [
    "# Analyssis results extracted from SAXS"
   ]
  },
  {
   "cell_type": "code",
   "execution_count": 19,
   "id": "91a8b826",
   "metadata": {},
   "outputs": [],
   "source": [
    "res = np.load(NPZ_outDir +  'CMS_20uLM_SB_analysis_updated_20230123.npz', allow_pickle=True)['df'][0]\n"
   ]
  },
  {
   "cell_type": "code",
   "execution_count": 21,
   "id": "32dac46d",
   "metadata": {},
   "outputs": [
    {
     "data": {
      "text/plain": [
       "dict_keys(['metadata', 'SAXS'])"
      ]
     },
     "execution_count": 21,
     "metadata": {},
     "output_type": "execute_result"
    }
   ],
   "source": [
    "res.keys()"
   ]
  },
  {
   "cell_type": "code",
   "execution_count": 24,
   "id": "71398cde",
   "metadata": {},
   "outputs": [
    {
     "data": {
      "text/plain": [
       "dict_keys(['q_iq', 'fit_res_init', 'fit_res_init_best', 'fit_res_init_best_paras'])"
      ]
     },
     "execution_count": 24,
     "metadata": {},
     "output_type": "execute_result"
    }
   ],
   "source": [
    "#res['SAXS']['analysis'].keys()\n",
    "res['SAXS']['analysis']['0'].keys()"
   ]
  },
  {
   "cell_type": "code",
   "execution_count": 36,
   "id": "27a23451",
   "metadata": {},
   "outputs": [],
   "source": [
    "#data['SAXS']['data']"
   ]
  },
  {
   "cell_type": "code",
   "execution_count": null,
   "id": "81fe108f",
   "metadata": {},
   "outputs": [],
   "source": []
  },
  {
   "cell_type": "markdown",
   "id": "f445f0a2",
   "metadata": {},
   "source": [
    "*  NOTE: radius_in_Angstron, sigma, maximun intensity, reduced error (mse)\n",
    " \n",
    " "
   ]
  },
  {
   "cell_type": "code",
   "execution_count": 59,
   "id": "6fc1d282",
   "metadata": {},
   "outputs": [
    {
     "data": {
      "text/plain": [
       "[185.0, 0.168, 0.05788357925219145, 0.07697589127667083]"
      ]
     },
     "execution_count": 59,
     "metadata": {},
     "output_type": "execute_result"
    }
   ],
   "source": [
    "res['SAXS']['analysis']['0']['fit_res_init_best_paras'][0]  #the first droplet"
   ]
  },
  {
   "cell_type": "code",
   "execution_count": 60,
   "id": "1f37b95e",
   "metadata": {},
   "outputs": [
    {
     "data": {
      "text/plain": [
       "[482.0, 0.016, 0.029389944062721145, 0.11121178796330945]"
      ]
     },
     "execution_count": 60,
     "metadata": {},
     "output_type": "execute_result"
    }
   ],
   "source": [
    "res['SAXS']['analysis']['1']['fit_res_init_best_paras'][0]  #the first droplet"
   ]
  },
  {
   "cell_type": "code",
   "execution_count": null,
   "id": "33c027a6",
   "metadata": {},
   "outputs": [],
   "source": []
  }
 ],
 "metadata": {
  "kernelspec": {
   "display_name": "Python 3",
   "language": "python",
   "name": "python3"
  },
  "language_info": {
   "codemirror_mode": {
    "name": "ipython",
    "version": 3
   },
   "file_extension": ".py",
   "mimetype": "text/x-python",
   "name": "python",
   "nbconvert_exporter": "python",
   "pygments_lexer": "ipython3",
   "version": "3.9.15"
  }
 },
 "nbformat": 4,
 "nbformat_minor": 5
}
